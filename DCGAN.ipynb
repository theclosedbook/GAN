{
  "nbformat": 4,
  "nbformat_minor": 0,
  "metadata": {
    "colab": {
      "provenance": [],
      "gpuType": "T4",
      "authorship_tag": "ABX9TyMkO0OfanT94sTVIw37jCYs",
      "include_colab_link": true
    },
    "kernelspec": {
      "name": "python3",
      "display_name": "Python 3"
    },
    "language_info": {
      "name": "python"
    },
    "accelerator": "GPU"
  },
  "cells": [
    {
      "cell_type": "markdown",
      "metadata": {
        "id": "view-in-github",
        "colab_type": "text"
      },
      "source": [
        "<a href=\"https://colab.research.google.com/github/theclosedbook/GAN/blob/main/DCGAN.ipynb\" target=\"_parent\"><img src=\"https://colab.research.google.com/assets/colab-badge.svg\" alt=\"Open In Colab\"/></a>"
      ]
    },
    {
      "cell_type": "code",
      "execution_count": 1,
      "metadata": {
        "id": "D5ks5w2PVTpA"
      },
      "outputs": [],
      "source": [
        "#Importing Libraries\n",
        "import matplotlib.pyplot as plt\n",
        "import numpy as np\n",
        "import tensorflow as tf\n",
        "from tensorflow.keras import layers"
      ]
    },
    {
      "cell_type": "code",
      "source": [
        "#Print Tf Version\n",
        "print(tf.__version__)"
      ],
      "metadata": {
        "colab": {
          "base_uri": "https://localhost:8080/"
        },
        "id": "GI88a8HmVY2s",
        "outputId": "38b37e2c-357e-4613-a1e1-dcffdd87ada4"
      },
      "execution_count": 2,
      "outputs": [
        {
          "output_type": "stream",
          "name": "stdout",
          "text": [
            "2.15.0\n"
          ]
        }
      ]
    },
    {
      "cell_type": "code",
      "source": [
        "## Loading and preprocessing the dataset\n",
        "(X_train,y_train),(_,_) = tf.keras.datasets.mnist.load_data()"
      ],
      "metadata": {
        "colab": {
          "base_uri": "https://localhost:8080/"
        },
        "id": "aphDvY5gVgt9",
        "outputId": "44233d51-13f6-46c0-ee87-c7510614720f"
      },
      "execution_count": 3,
      "outputs": [
        {
          "output_type": "stream",
          "name": "stdout",
          "text": [
            "Downloading data from https://storage.googleapis.com/tensorflow/tf-keras-datasets/mnist.npz\n",
            "11490434/11490434 [==============================] - 0s 0us/step\n"
          ]
        }
      ]
    },
    {
      "cell_type": "code",
      "source": [
        "#Shape of X_train\n",
        "X_train.shape"
      ],
      "metadata": {
        "colab": {
          "base_uri": "https://localhost:8080/"
        },
        "id": "Ps1JLQWWViyE",
        "outputId": "35f66d5a-15fe-40f2-c05d-d16650c5d3e9"
      },
      "execution_count": 4,
      "outputs": [
        {
          "output_type": "execute_result",
          "data": {
            "text/plain": [
              "(60000, 28, 28)"
            ]
          },
          "metadata": {},
          "execution_count": 4
        }
      ]
    },
    {
      "cell_type": "code",
      "source": [
        "#Shape of y_train\n",
        "y_train.shape"
      ],
      "metadata": {
        "colab": {
          "base_uri": "https://localhost:8080/"
        },
        "id": "wXkqvFsdVkn3",
        "outputId": "e47f23aa-4ba7-4496-a6fd-b48830503183"
      },
      "execution_count": 5,
      "outputs": [
        {
          "output_type": "execute_result",
          "data": {
            "text/plain": [
              "(60000,)"
            ]
          },
          "metadata": {},
          "execution_count": 5
        }
      ]
    },
    {
      "cell_type": "code",
      "source": [
        "# To Visualize X_train and y_train\n",
        "i = np.random.randint(0,60000)\n",
        "print(i)\n",
        "print(y_train[i])\n",
        "plt.imshow(X_train[i],cmap='gray')"
      ],
      "metadata": {
        "colab": {
          "base_uri": "https://localhost:8080/",
          "height": 485
        },
        "id": "TvKVHxcgVmkF",
        "outputId": "8d887b98-4e33-44e0-ae77-5aa1448c5e47"
      },
      "execution_count": 6,
      "outputs": [
        {
          "output_type": "stream",
          "name": "stdout",
          "text": [
            "49479\n",
            "4\n"
          ]
        },
        {
          "output_type": "execute_result",
          "data": {
            "text/plain": [
              "<matplotlib.image.AxesImage at 0x78375d3cfd00>"
            ]
          },
          "metadata": {},
          "execution_count": 6
        },
        {
          "output_type": "display_data",
          "data": {
            "text/plain": [
              "<Figure size 640x480 with 1 Axes>"
            ],
            "image/png": "[encoded data removed]"
          },
          "metadata": {}
        }
      ]
    },
    {
      "cell_type": "code",
      "source": [
        "# Reshaping X_train\n",
        "X_train = X_train.reshape(X_train.shape[0],28,28,1).astype('float32')"
      ],
      "metadata": {
        "id": "cG7uQUz_VoQL"
      },
      "execution_count": 7,
      "outputs": []
    },
    {
      "cell_type": "code",
      "source": [
        "#Shape Of the resized X_train\n",
        "X_train.shape"
      ],
      "metadata": {
        "colab": {
          "base_uri": "https://localhost:8080/"
        },
        "id": "ZY7w83C9VsHV",
        "outputId": "9856f404-7d5f-4598-b570-22f860925032"
      },
      "execution_count": 8,
      "outputs": [
        {
          "output_type": "execute_result",
          "data": {
            "text/plain": [
              "(60000, 28, 28, 1)"
            ]
          },
          "metadata": {},
          "execution_count": 8
        }
      ]
    },
    {
      "cell_type": "code",
      "source": [
        "#Min and Max Value (Normalization Needed)\n",
        "X_train[0].min(),X_train[0].max()"
      ],
      "metadata": {
        "colab": {
          "base_uri": "https://localhost:8080/"
        },
        "id": "OFteFxMtV2rr",
        "outputId": "c3193598-7678-4f06-c79b-8b7954f568f3"
      },
      "execution_count": 9,
      "outputs": [
        {
          "output_type": "execute_result",
          "data": {
            "text/plain": [
              "(0.0, 255.0)"
            ]
          },
          "metadata": {},
          "execution_count": 9
        }
      ]
    },
    {
      "cell_type": "code",
      "source": [
        "X_train = (X_train - 127.5) / 127.5"
      ],
      "metadata": {
        "id": "98TTA96zVuA9"
      },
      "execution_count": 10,
      "outputs": []
    },
    {
      "cell_type": "code",
      "source": [
        "X_train[0].min(),X_train[0].max()"
      ],
      "metadata": {
        "colab": {
          "base_uri": "https://localhost:8080/"
        },
        "id": "s8kVsew2V8LQ",
        "outputId": "821b05cd-0a47-4435-cf80-df3a8aa0c140"
      },
      "execution_count": 11,
      "outputs": [
        {
          "output_type": "execute_result",
          "data": {
            "text/plain": [
              "(-1.0, 1.0)"
            ]
          },
          "metadata": {},
          "execution_count": 11
        }
      ]
    },
    {
      "cell_type": "code",
      "source": [
        "buffer_size = 60000\n",
        "batch_size = 256"
      ],
      "metadata": {
        "id": "tUSglkSnV9lq"
      },
      "execution_count": 12,
      "outputs": []
    },
    {
      "cell_type": "code",
      "source": [
        "#Coneverting from np to tensors\n",
        "X_train = tf.data.Dataset.from_tensor_slices(X_train).shuffle(buffer_size).batch(batch_size)"
      ],
      "metadata": {
        "id": "iqMKLa-xWNR7"
      },
      "execution_count": 14,
      "outputs": []
    },
    {
      "cell_type": "code",
      "source": [
        "#X_train info after converting into tensor\n",
        "X_train"
      ],
      "metadata": {
        "colab": {
          "base_uri": "https://localhost:8080/"
        },
        "id": "oFUeaSONWdt1",
        "outputId": "e5ef2de1-75a7-4e79-a00b-d37bb8ece1bc"
      },
      "execution_count": 16,
      "outputs": [
        {
          "output_type": "execute_result",
          "data": {
            "text/plain": [
              "<_BatchDataset element_spec=TensorSpec(shape=(None, 28, 28, 1), dtype=tf.float32, name=None)>"
            ]
          },
          "metadata": {},
          "execution_count": 16
        }
      ]
    },
    {
      "cell_type": "markdown",
      "source": [
        "##Building Generator"
      ],
      "metadata": {
        "id": "xpQdRM4WWmCo"
      }
    },
    {
      "cell_type": "code",
      "source": [
        "# 100 -> 12544\n",
        "def build_generator():\n",
        "  network = tf.keras.Sequential()\n",
        "\n",
        "  network.add(layers.Dense(units = 7*7*256, use_bias = False, input_shape=(100,)))\n",
        "  network.add(layers.BatchNormalization())\n",
        "  network.add(layers.LeakyReLU())\n",
        "\n",
        "  network.add(layers.Reshape((7,7,256)))\n",
        "\n",
        "  # 7x7x128\n",
        "  network.add(layers.Conv2DTranspose(filters = 128, kernel_size = (5,5), padding = 'same', use_bias = False))\n",
        "  network.add(layers.BatchNormalization())\n",
        "  network.add(layers.LeakyReLU())\n",
        "\n",
        "  # 14x14x64\n",
        "  network.add(layers.Conv2DTranspose(filters = 64, kernel_size = (5,5), padding = 'same', strides = (2,2), use_bias = False))\n",
        "  network.add(layers.BatchNormalization())\n",
        "  network.add(layers.LeakyReLU())\n",
        "\n",
        "  # 28x28x1\n",
        "  network.add(layers.Conv2DTranspose(filters = 1, kernel_size = (5,5), padding = 'same', strides = (2,2), use_bias=True, activation='tanh'))\n",
        "\n",
        "  network.summary()\n",
        "\n",
        "  return network\n"
      ],
      "metadata": {
        "id": "ZmEWqBz3XlvT"
      },
      "execution_count": 21,
      "outputs": []
    },
    {
      "cell_type": "code",
      "source": [
        "# Summary of the generator\n",
        "generator = build_generator()"
      ],
      "metadata": {
        "colab": {
          "base_uri": "https://localhost:8080/"
        },
        "id": "uYMGn9uxadMI",
        "outputId": "bd654233-40b5-4972-c051-c5ec5408637d"
      },
      "execution_count": 22,
      "outputs": [
        {
          "output_type": "stream",
          "name": "stdout",
          "text": [
            "Model: \"sequential_2\"\n",
            "_________________________________________________________________\n",
            " Layer (type)                Output Shape              Param #   \n",
            "=================================================================\n",
            " dense_2 (Dense)             (None, 12544)             1254400   \n",
            "                                                                 \n",
            " batch_normalization_2 (Bat  (None, 12544)             50176     \n",
            " chNormalization)                                                \n",
            "                                                                 \n",
            " leaky_re_lu_2 (LeakyReLU)   (None, 12544)             0         \n",
            "                                                                 \n",
            " reshape_2 (Reshape)         (None, 7, 7, 256)         0         \n",
            "                                                                 \n",
            " conv2d_transpose (Conv2DTr  (None, 7, 7, 128)         819200    \n",
            " anspose)                                                        \n",
            "                                                                 \n",
            " batch_normalization_3 (Bat  (None, 7, 7, 128)         512       \n",
            " chNormalization)                                                \n",
            "                                                                 \n",
            " leaky_re_lu_3 (LeakyReLU)   (None, 7, 7, 128)         0         \n",
            "                                                                 \n",
            " conv2d_transpose_1 (Conv2D  (None, 14, 14, 64)        204800    \n",
            " Transpose)                                                      \n",
            "                                                                 \n",
            " batch_normalization_4 (Bat  (None, 14, 14, 64)        256       \n",
            " chNormalization)                                                \n",
            "                                                                 \n",
            " leaky_re_lu_4 (LeakyReLU)   (None, 14, 14, 64)        0         \n",
            "                                                                 \n",
            " conv2d_transpose_2 (Conv2D  (None, 28, 28, 1)         1601      \n",
            " Transpose)                                                      \n",
            "                                                                 \n",
            "=================================================================\n",
            "Total params: 2330945 (8.89 MB)\n",
            "Trainable params: 2305473 (8.79 MB)\n",
            "Non-trainable params: 25472 (99.50 KB)\n",
            "_________________________________________________________________\n"
          ]
        }
      ]
    },
    {
      "cell_type": "code",
      "source": [
        "# Input of the generator\n",
        "generator.input"
      ],
      "metadata": {
        "colab": {
          "base_uri": "https://localhost:8080/"
        },
        "id": "tBqHdyQEajqE",
        "outputId": "4432d3fe-0fad-4a93-de86-37bdb2878760"
      },
      "execution_count": 23,
      "outputs": [
        {
          "output_type": "execute_result",
          "data": {
            "text/plain": [
              "<KerasTensor: shape=(None, 100) dtype=float32 (created by layer 'dense_2_input')>"
            ]
          },
          "metadata": {},
          "execution_count": 23
        }
      ]
    },
    {
      "cell_type": "code",
      "source": [
        "# Random Noise\n",
        "noise = tf.random.normal([1,100])\n",
        "noise"
      ],
      "metadata": {
        "colab": {
          "base_uri": "https://localhost:8080/"
        },
        "id": "JHCSbFakbrIE",
        "outputId": "2f05a1c9-d9bf-448f-b762-5b1a24ff7eb7"
      },
      "execution_count": 32,
      "outputs": [
        {
          "output_type": "execute_result",
          "data": {
            "text/plain": [
              "<tf.Tensor: shape=(1, 100), dtype=float32, numpy=\n",
              "array([[-1.26806748e+00, -6.23921573e-01, -1.69399452e+00,\n",
              "         7.10899651e-01, -4.72992621e-02,  1.34208441e+00,\n",
              "        -6.36471033e-01,  6.09167755e-01, -1.60278901e-01,\n",
              "        -9.72228587e-01,  1.17434525e+00, -2.04625443e-01,\n",
              "         3.23318720e-01, -2.11418280e-03,  1.55473745e+00,\n",
              "        -4.98131126e-01,  8.72822255e-02,  7.46871293e-01,\n",
              "        -1.52455151e-01,  1.38896316e-01, -1.45982206e+00,\n",
              "         1.17208374e+00, -1.77521989e-01,  2.89081049e+00,\n",
              "         1.17888257e-01,  1.74606407e+00,  4.80727226e-01,\n",
              "        -4.36758943e-04, -6.76079035e-01, -7.57776737e-01,\n",
              "        -5.90269506e-01,  1.30309010e+00,  7.35580146e-01,\n",
              "         1.10875392e+00, -6.27873302e-01,  6.04777932e-01,\n",
              "        -9.21123862e-01,  3.99308801e-02,  1.18704247e+00,\n",
              "        -6.50775075e-01,  7.97593296e-01,  2.32334390e-01,\n",
              "        -5.79422891e-01, -2.16909692e-01,  7.40007997e-01,\n",
              "        -1.97415721e+00, -5.42605579e-01,  1.03748262e+00,\n",
              "        -1.89447176e+00,  3.82404178e-01, -6.52625203e-01,\n",
              "         2.67842293e+00, -1.84777474e+00, -1.11561704e+00,\n",
              "         8.81011188e-01, -8.18197489e-01, -9.88962501e-02,\n",
              "        -1.54040492e+00, -6.05328918e-01, -2.52733052e-01,\n",
              "         7.15405405e-01, -1.63063788e+00, -1.79666686e+00,\n",
              "        -5.76243460e-01,  3.02188575e-01, -6.36731029e-01,\n",
              "         7.23996282e-01,  2.20626652e-01, -8.17228436e-01,\n",
              "        -1.73923600e+00,  1.25578570e+00,  1.63481247e+00,\n",
              "         1.36006999e+00,  4.30896766e-02,  2.03080130e+00,\n",
              "        -4.15965557e-01, -8.27011466e-02,  1.32748961e+00,\n",
              "        -1.12300575e+00, -1.31900162e-01, -8.92924309e-01,\n",
              "        -9.32100832e-01, -4.42714900e-01, -3.32697451e-01,\n",
              "         7.70802140e-01, -5.48081398e-01,  2.16913566e-01,\n",
              "        -7.05248237e-01, -2.67699778e-01,  1.07594550e+00,\n",
              "        -1.66334417e-02, -6.77839518e-02,  7.86710739e-01,\n",
              "         1.15342885e-01,  1.44121969e+00, -4.85121965e-01,\n",
              "         1.83809531e+00,  6.30874872e-01, -2.78744370e-01,\n",
              "        -2.73113936e-01]], dtype=float32)>"
            ]
          },
          "metadata": {},
          "execution_count": 32
        }
      ]
    },
    {
      "cell_type": "code",
      "source": [
        "generated_image = generator(noise,training = False)"
      ],
      "metadata": {
        "id": "7BerhG3ecEKm"
      },
      "execution_count": 33,
      "outputs": []
    },
    {
      "cell_type": "code",
      "source": [
        "generated_image.shape"
      ],
      "metadata": {
        "colab": {
          "base_uri": "https://localhost:8080/"
        },
        "id": "uhVrn-jscdMm",
        "outputId": "767aba32-efdd-46d0-e226-36c09e6b313f"
      },
      "execution_count": 34,
      "outputs": [
        {
          "output_type": "execute_result",
          "data": {
            "text/plain": [
              "TensorShape([1, 28, 28, 1])"
            ]
          },
          "metadata": {},
          "execution_count": 34
        }
      ]
    },
    {
      "cell_type": "code",
      "source": [
        "plt.imshow(generated_image[0,:,:,0],cmap='gray')"
      ],
      "metadata": {
        "colab": {
          "base_uri": "https://localhost:8080/",
          "height": 448
        },
        "id": "oVnuv4mPcglv",
        "outputId": "2758b6bf-c4b8-4aee-cc72-162d0a4df3ab"
      },
      "execution_count": 35,
      "outputs": [
        {
          "output_type": "execute_result",
          "data": {
            "text/plain": [
              "<matplotlib.image.AxesImage at 0x78374c7ad540>"
            ]
          },
          "metadata": {},
          "execution_count": 35
        },
        {
          "output_type": "display_data",
          "data": {
            "text/plain": [
              "<Figure size 640x480 with 1 Axes>"
            ],
            "image/png": "[encoded data removed]"
          },
          "metadata": {}
        }
      ]
    },
    {
      "cell_type": "code",
      "source": [],
      "metadata": {
        "id": "AFHJJ7QOclgc"
      },
      "execution_count": null,
      "outputs": []
    }
  ]
}